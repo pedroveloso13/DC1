{
 "cells": [
  {
   "cell_type": "markdown",
   "metadata": {},
   "source": [
    "#### 48782 Design and Computation 1\n",
    "\n",
    "# Review of week 01 04\n",
    "\n",
    "We will use this file to review the use of conditionals."
   ]
  },
  {
   "cell_type": "markdown",
   "metadata": {},
   "source": [
    "## Conditionals\n",
    "\n",
    "So far we have been walking on a straight line. Whenever we code n lines, our program is just a linear execution of these n lines from the first to the last. This is not fun. Life is more complex. Coding should also be more complex.\n",
    "\n",
    "Imagine that instead of walkin on a straight line, we had options. We stop at an intersection and there are many paths we can take. Can we do this in our code? Yes, with conditionals.\n",
    "\n"
   ]
  },
  {
   "cell_type": "markdown",
   "metadata": {},
   "source": [
    "## 1 Basic form\n",
    "\n",
    "If we use a conditional statement, we take an alternative route and than come back to our original code. \n",
    "<img src=\"conditionals2-01.png\" alt=\"Drawing\" style=\"width: 200px;\"/>\n",
    "\n",
    "\n",
    "We just need some things:\n",
    "\n",
    "- a conditional expression if\n",
    "- a test that returns a boolean\n",
    "- indentation to indicate what happens if the test returns True.\n",
    "- the result\n",
    "\n",
    "This is the format we need to use. Notice that"
   ]
  },
  {
   "cell_type": "code",
   "execution_count": 24,
   "metadata": {},
   "outputs": [
    {
     "name": "stdout",
     "output_type": "stream",
     "text": [
      "before\n",
      "a > 10\n",
      "after\n"
     ]
    }
   ],
   "source": [
    "a = 13 #change a to see the different results \n",
    "\n",
    "print(\"before\")\n",
    "\n",
    "if a > 10:\n",
    "    print(\"a > 10\")\n",
    "\n",
    "print(\"after\")"
   ]
  },
  {
   "cell_type": "markdown",
   "metadata": {},
   "source": [
    "## 2 Two independent branches \n",
    "Now let's add another conditional statement. In this case we will have two independent tests \n",
    "<img src=\"conditionals2-02.png\" alt=\"Drawing\" style=\"width: 400px;\"/>"
   ]
  },
  {
   "cell_type": "code",
   "execution_count": 25,
   "metadata": {},
   "outputs": [
    {
     "name": "stdout",
     "output_type": "stream",
     "text": [
      "before\n",
      "a > 10\n",
      "a < 100\n",
      "after\n"
     ]
    }
   ],
   "source": [
    "a = 13 #change a to see the different results \n",
    "\n",
    "print(\"before\")\n",
    "\n",
    "if a > 10:\n",
    "    print(\"a > 10\")\n",
    "if a < 100:\n",
    "    print(\"a < 100\")\n",
    "    \n",
    "print(\"after\")"
   ]
  },
  {
   "cell_type": "markdown",
   "metadata": {},
   "source": [
    "## 3 Two dependent branches\n",
    "Now let's see if we can choose more options. We are going to do a test ..__if__ the test is true, we go to a route a, __else__, we go to route b. Now we have an additional expression (__else__) that is always selected if the test in the if fails. Notice that __if__ and __else__ are part of the same conditional block. They should be in this order and they will ensure that we only take one of the two routes...\n",
    "<img src=\"conditionals2-03.png\" alt=\"Drawing\" style=\"width: 300px;\"/>"
   ]
  },
  {
   "cell_type": "code",
   "execution_count": 26,
   "metadata": {},
   "outputs": [
    {
     "name": "stdout",
     "output_type": "stream",
     "text": [
      "before\n",
      "a > 10\n",
      "after\n"
     ]
    }
   ],
   "source": [
    "a = 13 #change a to see the different results \n",
    "\n",
    "print(\"before\")\n",
    "\n",
    "if a > 10:\n",
    "    print(\"a > 10\")\n",
    "else:\n",
    "    print(\"else\")\n",
    "    \n",
    "print(\"after\")"
   ]
  },
  {
   "cell_type": "markdown",
   "metadata": {},
   "source": [
    "I also have another option here. I can add the expression __elif__ instead of __else__. The difference is that __elif__ should also contain a test. Therefore, while the code is guaranteed to enter the __else__ case if the previou test in the if failed, with an __elif__, it will only enter if the test in the __elif__ result in True."
   ]
  },
  {
   "cell_type": "code",
   "execution_count": 27,
   "metadata": {},
   "outputs": [
    {
     "name": "stdout",
     "output_type": "stream",
     "text": [
      "before\n",
      "a > 10\n",
      "after\n"
     ]
    }
   ],
   "source": [
    "a = 13 #change a to see the different results \n",
    "\n",
    "print(\"before\")\n",
    "\n",
    "if a > 10:\n",
    "    print(\"a > 10\")\n",
    "elif a < 0:\n",
    "    print(\"a < 0\")\n",
    "    \n",
    "print(\"after\")"
   ]
  },
  {
   "cell_type": "markdown",
   "metadata": {},
   "source": [
    "## 4 Multiple branches\n",
    "We have everything we need to develop a more complex test, with multiple branches. The rule is \n",
    "\n",
    "- The __if__ is the first \n",
    "- The tests in the middle are all defined by __elif__\n",
    "- We can add a __else__ that will execute if all previous tests have failed\n",
    "\n",
    "\n",
    "<img src=\"conditionals2-04.png\" alt=\"Drawing\" style=\"width: 300px;\"/>"
   ]
  },
  {
   "cell_type": "code",
   "execution_count": 28,
   "metadata": {
    "scrolled": true
   },
   "outputs": [
    {
     "name": "stdout",
     "output_type": "stream",
     "text": [
      "before\n",
      "a < 0\n",
      "after\n"
     ]
    }
   ],
   "source": [
    "a = -12 #change a to see the different results...\n",
    "\n",
    "print(\"before\")\n",
    "\n",
    "if a > 10:\n",
    "    print(\"a > 10\")\n",
    "elif a < 0:\n",
    "    print(\"a < 0\")\n",
    "elif a == 5:\n",
    "    print(\"a == 5\")\n",
    "elif a < 100: # what value of a would pass in this test?\n",
    "    print(\"a < 100\") \n",
    "else:\n",
    "    print(\"else\")\n",
    "    \n",
    "print(\"after\")"
   ]
  },
  {
   "cell_type": "markdown",
   "metadata": {},
   "source": [
    "Other example:"
   ]
  },
  {
   "cell_type": "code",
   "execution_count": 29,
   "metadata": {},
   "outputs": [
    {
     "name": "stdout",
     "output_type": "stream",
     "text": [
      "F\n"
     ]
    }
   ],
   "source": [
    "score = 56\n",
    "if (score >= 90):\n",
    "    grade = \"A\"\n",
    "elif (score >= 80):\n",
    "    grade = \"B\"\n",
    "elif (score >= 70):\n",
    "    grade = \"C\"\n",
    "elif (score >= 60):\n",
    "    grade = \"D\"\n",
    "else:\n",
    "    grade = \"F\" \n",
    "print(grade)"
   ]
  },
  {
   "cell_type": "markdown",
   "metadata": {},
   "source": [
    "We can even develop multiple independent conditional blocks \n",
    "<img src=\"conditionals2-05.png\" alt=\"Drawing\" style=\"width: 400px;\"/>"
   ]
  },
  {
   "cell_type": "code",
   "execution_count": 30,
   "metadata": {
    "scrolled": true
   },
   "outputs": [
    {
     "name": "stdout",
     "output_type": "stream",
     "text": [
      "before\n",
      "a < 0\n",
      "a < 100\n",
      "after\n"
     ]
    }
   ],
   "source": [
    "a = -12 #change a to see the different results...\n",
    "\n",
    "print(\"before\")\n",
    "\n",
    "if a > 10:\n",
    "    print(\"a > 10\")\n",
    "elif a < 0:\n",
    "    print(\"a < 0\")\n",
    "    \n",
    "if a < 100: # what value of a would pass in this test?\n",
    "    print(\"a < 100\") \n",
    "else:\n",
    "    print(\"else\")\n",
    "    \n",
    "print(\"after\")"
   ]
  },
  {
   "cell_type": "markdown",
   "metadata": {},
   "source": [
    "## 5 Conditionals inside conditionals\n",
    "Finally, we can include tests inside tests. Just make sure to use the right indentation to describe the hierarchy. Try to decipher this one.\n",
    "\n",
    "<img src=\"conditionals2-06.png\" alt=\"Drawing\" style=\"width: 300px;\"/>"
   ]
  },
  {
   "cell_type": "code",
   "execution_count": 31,
   "metadata": {},
   "outputs": [
    {
     "name": "stdout",
     "output_type": "stream",
     "text": [
      "before\n",
      "a > 10\n",
      "a < 100\n",
      "after\n"
     ]
    }
   ],
   "source": [
    "a = 80 #change a to see the different results...\n",
    "\n",
    "print(\"before\")\n",
    "\n",
    "if a > 10:\n",
    "    print(\"a > 10\")\n",
    "    if a < 100: \n",
    "        print(\"a < 100\")\n",
    "    else:\n",
    "        print(\"inside else\")  \n",
    "else:\n",
    "    print(\"outside else\")  \n",
    "\n",
    "print(\"after\")"
   ]
  },
  {
   "cell_type": "markdown",
   "metadata": {},
   "source": [
    "## 6 Conditional expressions\n",
    "\n",
    "So far, we have used conditional statements, which enable us to define very complex flows of information. However, at some points you want to solve a simple test in a single line (Python programmers love to compress a complex code in few lines). In this example, we are using a conditional expression to decide which value to assign to the variable."
   ]
  },
  {
   "cell_type": "code",
   "execution_count": 32,
   "metadata": {},
   "outputs": [
    {
     "name": "stdout",
     "output_type": "stream",
     "text": [
      "10 30\n"
     ]
    }
   ],
   "source": [
    "a = 10 # change to see the effect\n",
    "b = 20 if a < 5 else 30 \n",
    "\n",
    "print(a, b)"
   ]
  }
 ],
 "metadata": {
  "kernelspec": {
   "display_name": "Python 3",
   "language": "python",
   "name": "python3"
  },
  "language_info": {
   "codemirror_mode": {
    "name": "ipython",
    "version": 3
   },
   "file_extension": ".py",
   "mimetype": "text/x-python",
   "name": "python",
   "nbconvert_exporter": "python",
   "pygments_lexer": "ipython3",
   "version": "3.6.6"
  }
 },
 "nbformat": 4,
 "nbformat_minor": 2
}

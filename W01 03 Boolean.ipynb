{
 "cells": [
  {
   "cell_type": "markdown",
   "metadata": {},
   "source": [
    "#### 48782 Design and Computation 1\n",
    "\n",
    "# Review of week 01 03\n",
    "\n",
    "We will use this file to review the use of boolean operations."
   ]
  },
  {
   "cell_type": "markdown",
   "metadata": {},
   "source": [
    "## 1 Boolean operations in Python\n",
    "\n",
    "Boolean algebra is a branch of algebra that represent logical propositions. \n",
    "\n",
    "Boolean values are restricted to True and False. "
   ]
  },
  {
   "cell_type": "code",
   "execution_count": 41,
   "metadata": {},
   "outputs": [
    {
     "name": "stdout",
     "output_type": "stream",
     "text": [
      "<class 'bool'>\n"
     ]
    }
   ],
   "source": [
    "test = True \n",
    "my_id = False\n",
    "\n",
    "print(type(test))"
   ]
  },
  {
   "cell_type": "markdown",
   "metadata": {},
   "source": [
    "However, we do not have to assign Boolean values directly. Remember that with numbers we can assign an mathematical expression to a variable and it will store its reult? With Booleans it is the same thing, except that we are not going to use operations taht result in numbers, but operations that result in True or False. \n",
    "\n",
    "For example, we can use the relational operators to do tests.\n",
    "\n",
    "- smaller: $<$\n",
    "\n",
    "- smaller or equal: $<=$ \n",
    "\n",
    "- larger or equal: $>=$\n",
    "\n",
    "- larger: $>$\n",
    "\n",
    "- equal: $==$ \n",
    "\n",
    "- different: $!=$\n",
    "\n",
    "So far, we know how to use numbers, so let's focus on relational operators with numbers"
   ]
  },
  {
   "cell_type": "code",
   "execution_count": 42,
   "metadata": {},
   "outputs": [
    {
     "name": "stdout",
     "output_type": "stream",
     "text": [
      "False True True True\n"
     ]
    }
   ],
   "source": [
    "a = 12\n",
    "b = 34 \n",
    "test1 = 3 * a <= b\n",
    "test2 = a == 12\n",
    "test3 = a ** b > 10000\n",
    "test4 = a * b == b * a\n",
    "print(test1, test2, test3, test4)"
   ]
  },
  {
   "cell_type": "markdown",
   "metadata": {},
   "source": [
    "Additionally, we can use boolean operators on multiple boolean values. What are the boolean operations? Well, let's keep it simple and focus on three: \n",
    "\n",
    "- intersection: and \n",
    "- union: or\n",
    "- negation: not \n",
    "\n",
    "You can see that they are very straightforward. Only when we start to combine all of them that things can get complicated. Take some time reading this diagram.\n",
    "\n",
    "<img src=\"boolean2.png\" alt=\"Drawing\" style=\"width: 500px;\"/>\n",
    "\n",
    "Particularly, see if you can understand and memorize the tables in the bottom row. They are indicating the respective operation represented in the set diagram above. For example, the first table is showing what are the possible results for the and operation for a value A and a value B. Value A is repreented by the rows and value B is represented by the columns. Therefore, the coordinate of row T and col F indicates the result of the operation True and False.\n",
    "\n",
    "Can you guess the values of these variables?"
   ]
  },
  {
   "cell_type": "code",
   "execution_count": 43,
   "metadata": {
    "collapsed": true
   },
   "outputs": [],
   "source": [
    "e = True and False\n",
    "f = e and True\n",
    "g = e or True\n",
    "h = not f\n",
    "i = f and (h or e) \n",
    "j = f and True or g\n",
    "\n",
    "#print(e, f, g, h, i, j)"
   ]
  },
  {
   "cell_type": "markdown",
   "metadata": {},
   "source": [
    "What about this... can you solve it?"
   ]
  },
  {
   "cell_type": "code",
   "execution_count": 44,
   "metadata": {
    "collapsed": true
   },
   "outputs": [],
   "source": [
    "crazy_test = 3 * 24 <= 4 * 16 or 3 == 4 or 1 != 0 #???\n",
    "# print(crazy_test)"
   ]
  },
  {
   "cell_type": "markdown",
   "metadata": {},
   "source": [
    "## 2 Boolean operation with other data types\n",
    "Python is a very flexible language. It will accept any other datatype as part of a boolean operation. Well, but how does it translate each of these values. For numbers, it will consider 0 as False and all other numbers as True. However, we might need to use the bool() function to convert back to booleans... let's see."
   ]
  },
  {
   "cell_type": "code",
   "execution_count": 45,
   "metadata": {
    "scrolled": true
   },
   "outputs": [
    {
     "name": "stdout",
     "output_type": "stream",
     "text": [
      "q1 is 0\n",
      "q1 is False\n",
      "False True False\n"
     ]
    }
   ],
   "source": [
    "q1 = True and 0 # this is the same as True and False\n",
    "print(\"q1 is\", q1)\n",
    "print(\"q1 is\", bool(q1))\n",
    "q2 = 23 or True # this is the same as True and True and so on\n",
    "q3 = 1.5 and 0\n",
    "\n",
    "print(bool(q1), bool(q2), bool(q3))"
   ]
  },
  {
   "cell_type": "markdown",
   "metadata": {},
   "source": [
    "Another important aspect is that we can count boolean values as integers. Remember that false is 0? It will also consider True as 1. Therefore, if you sum a series of boolean values, you are basically counting the occurences of True values. "
   ]
  },
  {
   "cell_type": "code",
   "execution_count": 46,
   "metadata": {
    "scrolled": true
   },
   "outputs": [
    {
     "name": "stdout",
     "output_type": "stream",
     "text": [
      "3\n"
     ]
    }
   ],
   "source": [
    "r1 = True \n",
    "r2 = False\n",
    "r3 = True\n",
    "r4 = True\n",
    "countin_r = r1 + r2 + r3 + r4\n",
    "print(countin_r)"
   ]
  },
  {
   "cell_type": "markdown",
   "metadata": {},
   "source": [
    "Ok. Now you know how python converts from bool to numbers (False is 0, True is 1) and from numbers to bool (0 is False, everything else is True. Let's play with these conversions."
   ]
  },
  {
   "cell_type": "code",
   "execution_count": 47,
   "metadata": {},
   "outputs": [
    {
     "name": "stdout",
     "output_type": "stream",
     "text": [
      "True\n",
      "1\n",
      "0\n",
      "1\n",
      "3.0\n",
      "3\n",
      "0.0\n",
      "True\n"
     ]
    }
   ],
   "source": [
    "print(bool(1+2)) #you can use a bool function to convert any value to a boolean\n",
    "print(int(True))\n",
    "print(int(False))\n",
    "print(int(True or False)) # what this is going to return?\n",
    "print(float(3))\n",
    "print(int(True and 3.45))\n",
    "print(float(False or False))\n",
    "print(bool(float(True)))"
   ]
  },
  {
   "cell_type": "markdown",
   "metadata": {},
   "source": [
    "## 3 Short circuit\n",
    "\n",
    "Ther is an important detail here. Python uses lazy evaluation. It means that it only evaluates these expressions until the point where the final result is already defined. For example, if we have \n",
    "\n",
    "- True or ... \n",
    "- False and ...\n",
    "\n",
    "The second term is irrelevant for the final result. To prove that Python is lazy, let's try to break it with a division by zero or by whatever we want to write there. If Python evaluates the second term it should trigger an error. "
   ]
  },
  {
   "cell_type": "code",
   "execution_count": 48,
   "metadata": {
    "collapsed": true
   },
   "outputs": [],
   "source": [
    "a = True or 23/0\n",
    "b = False and 321//0\n",
    "\n",
    "r1 = False and whatever\n",
    "r2 = False and 3/0\n",
    "r3 = True or whatever\n",
    "r4 = True or 3/0\n",
    "r5 = (1>0 and 12<4 or 4<12) or 3/0 "
   ]
  },
  {
   "cell_type": "markdown",
   "metadata": {},
   "source": [
    "It does not."
   ]
  },
  {
   "cell_type": "markdown",
   "metadata": {},
   "source": [
    "## 4 Testing types\n",
    "\n",
    "Just a brief parenthesis... So far we have been using the function __type(a)__ to discover the type of a variable. We can also use the function __isinstance(a, t)__. While the function __type__ returns the data type of the variable __a__, the function __isinstance__ test if the type of the variable __a__ is __t__. "
   ]
  },
  {
   "cell_type": "code",
   "execution_count": 49,
   "metadata": {},
   "outputs": [
    {
     "name": "stdout",
     "output_type": "stream",
     "text": [
      "1.5 <class 'float'>\n",
      "1 <class 'int'>\n",
      "1.5 True\n",
      "1 True\n",
      "1.5 False\n",
      "1 False\n"
     ]
    }
   ],
   "source": [
    "a = 12 / 8\n",
    "b = 12 // 8\n",
    "print(a, type(a))\n",
    "print(b, type(b))\n",
    "\n",
    "# we can do a test here\n",
    "print(a, type(a) == float)\n",
    "print(b, type(b) == int)\n",
    "\n",
    "# what is the same as \n",
    "print(a, isinstance(a, int))\n",
    "print(b, isinstance(b, float))"
   ]
  },
  {
   "cell_type": "markdown",
   "metadata": {},
   "source": [
    "## 5 The life of Bob\n",
    "\n",
    "Based on Petzold, Charles (1999). CODE: The Hidden Language of Computer Hardware and Software. p.83\n",
    "\n",
    "Prf. Bob was lonely, so he wanted to buy a cat. \n",
    "However, Bob is very picky.\n",
    "\n",
    "He went to the pet shop and asked the following:\n",
    "- I want a male cat, neutered, either white or tan; \n",
    "  or a female cat, neutered, any color but white; \n",
    "  or I'll take any cat you have as long as it's black\n",
    "\n",
    "The seller is smart. She created a boolean expression to solve Bob's requirement. \n",
    "Let's model this test, using the following variables: \n",
    "- __male__\n",
    "- __neutered__\n",
    "- __white__\n",
    "- __tan__\n",
    "- __female__\n",
    "- __black__ "
   ]
  },
  {
   "cell_type": "code",
   "execution_count": 50,
   "metadata": {},
   "outputs": [
    {
     "name": "stdout",
     "output_type": "stream",
     "text": [
      "False\n"
     ]
    }
   ],
   "source": [
    "male = False\n",
    "female = True\n",
    "\n",
    "neutered = False\n",
    "\n",
    "white = False\n",
    "tan = True\n",
    "black = False\n",
    "\n",
    "cat_test = (male and neutered and (white or tan)) or (female and neutered and (not white)) or (black)\n",
    "print(cat_test) #is Bob going to buy the cat?"
   ]
  },
  {
   "cell_type": "markdown",
   "metadata": {},
   "source": [
    "Notice two things. \n",
    "\n",
    "1) In the example above, we do not have to say male == True. Why? Well, testing if something is true is the same as asking what is the value of that boolean \n",
    "\n",
    "2) We can change our representation of the problem if we use strings. Let's do it."
   ]
  },
  {
   "cell_type": "code",
   "execution_count": 51,
   "metadata": {
    "scrolled": true
   },
   "outputs": [
    {
     "name": "stdout",
     "output_type": "stream",
     "text": [
      "False\n"
     ]
    }
   ],
   "source": [
    "gender = \"female\"\n",
    "neutered = False\n",
    "color = \"tan\"\n",
    "\n",
    "cat_test = (gender == \"male\" and neutered and (color == \"white\" or color == \"tan\")) or (gender == \"female\" and neutered and (not color == \"white\")) or (color == \"black\")\n",
    "print(cat_test) #is Bob going to buy the cat?"
   ]
  }
 ],
 "metadata": {
  "kernelspec": {
   "display_name": "Python 3",
   "language": "python",
   "name": "python3"
  },
  "language_info": {
   "codemirror_mode": {
    "name": "ipython",
    "version": 3
   },
   "file_extension": ".py",
   "mimetype": "text/x-python",
   "name": "python",
   "nbconvert_exporter": "python",
   "pygments_lexer": "ipython3",
   "version": "3.6.6"
  }
 },
 "nbformat": 4,
 "nbformat_minor": 2
}

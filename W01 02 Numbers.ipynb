{
 "cells": [
  {
   "cell_type": "markdown",
   "metadata": {},
   "source": [
    "#### 48782 Design and Computation 1\n",
    "\n",
    "# Review of week 01 02\n",
    "\n",
    "We will use this file to review the use of numbers and operators."
   ]
  },
  {
   "cell_type": "markdown",
   "metadata": {},
   "source": [
    "## 1 Object types in Python\n",
    "\n",
    "To program you have to manipulate different type of data. Python stores these different types in different \"objects\" (we will discuss this later in the course). Here is a table showing some of the data types available in python.\n",
    "\n",
    "<img src=\"W1_02_data_types.jpg\" alt=\"Drawing\" style=\"width: 500px;\"/>\n",
    "\n",
    "For now, we will focus on the Numbers. Notice that there are different examples in the row of numbers\n",
    "\n",
    "- 1234\n",
    "- 3.1415\n",
    "- 3+4j\n",
    "- 0b111\n",
    "\n",
    "We will concentrate on two types of numbers: __int__ and __float__. \n",
    "\n",
    "Integers are obviously positive or negative integer numbers without decimal values. In the example above, $1234$ and $0b111$ are __int__ types (the second one is in binary as we will see later).\n",
    "\n",
    "Floats are representation of real numbers and use a point to divide the integer and decimal part. In the example above, $3.1415$ is a __float__. Notice that the type of the __float__ is determined by the existence of the point. \n",
    "\n",
    "The interesting part is that Python is a dynamically-typed language. Notice that you do not have to state explicitly the types you are adopting. Instead of coding like in other statically-typed language:\n",
    "\n",
    "> int a = 2;\n",
    "\n",
    "You should write\n",
    "\n",
    "> a = 2\n",
    "\n",
    "What determine the data type is the assigned value on the right. If you write\n",
    "\n",
    "> a = 2.0\n",
    "\n",
    "You are representing an integer value in a __float__ type "
   ]
  },
  {
   "cell_type": "code",
   "execution_count": 1,
   "metadata": {
    "collapsed": true
   },
   "outputs": [],
   "source": [
    "a = 2\n",
    "b = 31\n",
    "\n",
    "c = 0b01 #binaries just for fun\n",
    "d = 0b11111\n",
    "\n",
    "c = 2.0\n",
    "d = 31.0"
   ]
  },
  {
   "cell_type": "markdown",
   "metadata": {},
   "source": [
    "We can verify each of these data types by using the function __type()__. For example:"
   ]
  },
  {
   "cell_type": "code",
   "execution_count": 2,
   "metadata": {},
   "outputs": [
    {
     "name": "stdout",
     "output_type": "stream",
     "text": [
      "<class 'float'> <class 'int'>\n"
     ]
    }
   ],
   "source": [
    "a = 51.0\n",
    "b = 51\n",
    "print(type(a), type(b))"
   ]
  },
  {
   "cell_type": "markdown",
   "metadata": {},
   "source": [
    "## 2 moving between types\n",
    "Additionally, we can also convert between different data types using functions such as __int()__, __float()__, __round()__. Notice that if the input of the function __int()__ is a __float__, it will eliminate the decimal part. In the case of the function __round()__, it will round it to the closest __int__."
   ]
  },
  {
   "cell_type": "code",
   "execution_count": 6,
   "metadata": {
    "scrolled": true
   },
   "outputs": [
    {
     "name": "stdout",
     "output_type": "stream",
     "text": [
      "<class 'float'>\n",
      "100 51 100.0 100\n",
      "<class 'int'> <class 'int'> <class 'float'> <class 'int'>\n"
     ]
    }
   ],
   "source": [
    "a = 51.7\n",
    "print(type(a))\n",
    "b = int(a)\n",
    "a = 100\n",
    "c = float(a)\n",
    "d = round(a)\n",
    "print(a, b, c, d)\n",
    "print(type(a), type(b), type(c), type(d))"
   ]
  },
  {
   "cell_type": "markdown",
   "metadata": {},
   "source": [
    "## 3 Operations with numbers\n",
    "\n",
    "Each data type is a specific class in python, with its own set of methods and attributes. We will learn more about that in the future. For now, we can think that each data type is a specific way to store data that has its own operations. In the case of numbers, let us see some of these operations:\n",
    "\n",
    "<img src=\"table01.png\" alt=\"Drawing\" style=\"width: 500px;\"/>\n",
    "\n",
    "I will assume that you know most of these operations and that you will be curious enough to test the ones you do not know in the block below. So, we can start applying these operations to our numbers, but there is still a detail here... The operation might influence the data type. Check the examples below and add your own examples..."
   ]
  },
  {
   "cell_type": "code",
   "execution_count": 7,
   "metadata": {},
   "outputs": [
    {
     "name": "stdout",
     "output_type": "stream",
     "text": [
      "a <class 'float'> 25.5\n",
      "b <class 'float'> 10.0\n",
      "c <class 'int'> 10\n",
      "d <class 'float'> 12.5\n",
      "e <class 'int'> 12\n",
      "f <class 'int'> 16\n",
      "g <class 'float'> 16.0\n",
      "h <class 'float'> 17.148375400580687\n"
     ]
    }
   ],
   "source": [
    "a = 12 + 13.5\n",
    "print(\"a\", type(a), a)\n",
    "\n",
    "a = 12.add()\n",
    "\n",
    "b = 20 / 2\n",
    "c = 20 // 2\n",
    "print(\"b\", type(b), b)\n",
    "print(\"c\", type(c), c)\n",
    "\n",
    "d = 25 / 2\n",
    "e = 25 //2 \n",
    "print(\"d\", type(d), d)\n",
    "print(\"e\", type(e), e)\n",
    "\n",
    "f = 2 ** 4\n",
    "print(\"f\", type(f), f)\n",
    "\n",
    "g = 2 ** 4.0\n",
    "print(\"g\", type(g), g)\n",
    "\n",
    "h = 2 ** 4.1\n",
    "print(\"h\", type(h), h)"
   ]
  },
  {
   "cell_type": "markdown",
   "metadata": {},
   "source": [
    "One important pair of operations is the integer division (//) with modulo (%). They enable us to separate filter two different aspects of our number and will be really useful for our functions in the future."
   ]
  },
  {
   "cell_type": "code",
   "execution_count": 15,
   "metadata": {},
   "outputs": [
    {
     "name": "stdout",
     "output_type": "stream",
     "text": [
      "13.35 6.0 1.3499999999999996\n",
      "15.23 15.0 0.23000000000000043\n"
     ]
    }
   ],
   "source": [
    "a = 13.35\n",
    "whole = a//2\n",
    "remaining = a % 2\n",
    "\n",
    "print(a, whole, remaining)\n",
    "\n",
    "b = 15.23\n",
    "whole = b // 1\n",
    "remaining = b % 1\n",
    "print(b, whole, remaining)"
   ]
  },
  {
   "cell_type": "markdown",
   "metadata": {},
   "source": [
    "You probably noticed that our float remaining lost some accuracy in the example above. This is common with floating-point numbers, which are represented in computer hardware as base $2$ (binary) fractions. You can see more [here](https://docs.python.org/3/tutorial/floatingpoint.html)"
   ]
  },
  {
   "cell_type": "markdown",
   "metadata": {},
   "source": [
    "__What about ilegal operations?__\n",
    "\n",
    "Well, they will lead not only to wrong results but they can also break our code. Let's trigger some errors here "
   ]
  },
  {
   "cell_type": "code",
   "execution_count": 7,
   "metadata": {
    "scrolled": true
   },
   "outputs": [
    {
     "ename": "SyntaxError",
     "evalue": "invalid syntax (<ipython-input-7-5ccfe5010957>, line 1)",
     "output_type": "error",
     "traceback": [
      "\u001b[1;36m  File \u001b[1;32m\"<ipython-input-7-5ccfe5010957>\"\u001b[1;36m, line \u001b[1;32m1\u001b[0m\n\u001b[1;33m    a = 3 x 7\u001b[0m\n\u001b[1;37m          ^\u001b[0m\n\u001b[1;31mSyntaxError\u001b[0m\u001b[1;31m:\u001b[0m invalid syntax\n"
     ]
    }
   ],
   "source": [
    "a = 3 x 7"
   ]
  },
  {
   "cell_type": "code",
   "execution_count": 8,
   "metadata": {
    "collapsed": true
   },
   "outputs": [],
   "source": [
    "a = 3 * 7 # this is correct"
   ]
  },
  {
   "cell_type": "code",
   "execution_count": 9,
   "metadata": {},
   "outputs": [
    {
     "ename": "ZeroDivisionError",
     "evalue": "division by zero",
     "output_type": "error",
     "traceback": [
      "\u001b[1;31m---------------------------------------------------------------------------\u001b[0m",
      "\u001b[1;31mZeroDivisionError\u001b[0m                         Traceback (most recent call last)",
      "\u001b[1;32m<ipython-input-9-9c76173ecd3e>\u001b[0m in \u001b[0;36m<module>\u001b[1;34m()\u001b[0m\n\u001b[1;32m----> 1\u001b[1;33m \u001b[0mb\u001b[0m \u001b[1;33m=\u001b[0m \u001b[1;36m1\u001b[0m \u001b[1;33m*\u001b[0m \u001b[1;36m3\u001b[0m \u001b[1;33m/\u001b[0m \u001b[1;36m0\u001b[0m\u001b[1;33m\u001b[0m\u001b[0m\n\u001b[0m",
      "\u001b[1;31mZeroDivisionError\u001b[0m: division by zero"
     ]
    }
   ],
   "source": [
    "b = 1 * 3 / 0"
   ]
  },
  {
   "cell_type": "markdown",
   "metadata": {},
   "source": [
    "#### 4 Importing libraries\n",
    "\n",
    "Notice in the we can also use operations defined in functions. However, as we have not yet learned how to develop our own functions, we will import a module/library. A module is basically a source file written by other people that we can use in our code. It contains classes, functions and cosntants that we can use (for free).\n",
    "\n",
    "Now, let's concentrate on our operations with numbers and import the module math. The standard way to import the math module is this:"
   ]
  },
  {
   "cell_type": "code",
   "execution_count": 25,
   "metadata": {
    "collapsed": true
   },
   "outputs": [],
   "source": [
    "import math"
   ]
  },
  {
   "cell_type": "markdown",
   "metadata": {},
   "source": [
    "Now, we can use the functions and constants of the math module with a dot notation - math.function() or math.constant"
   ]
  },
  {
   "cell_type": "code",
   "execution_count": 10,
   "metadata": {},
   "outputs": [
    {
     "ename": "AttributeError",
     "evalue": "'int' object has no attribute 'radians'",
     "output_type": "error",
     "traceback": [
      "\u001b[1;31m---------------------------------------------------------------------------\u001b[0m",
      "\u001b[1;31mAttributeError\u001b[0m                            Traceback (most recent call last)",
      "\u001b[1;32m<ipython-input-10-c44b4faff745>\u001b[0m in \u001b[0;36m<module>\u001b[1;34m()\u001b[0m\n\u001b[0;32m      1\u001b[0m \u001b[0mmath\u001b[0m \u001b[1;33m=\u001b[0m \u001b[1;36m1\u001b[0m\u001b[1;33m\u001b[0m\u001b[0m\n\u001b[1;32m----> 2\u001b[1;33m \u001b[0mangle\u001b[0m \u001b[1;33m=\u001b[0m \u001b[0mmath\u001b[0m\u001b[1;33m.\u001b[0m\u001b[0mradians\u001b[0m\u001b[1;33m(\u001b[0m\u001b[1;36m234\u001b[0m\u001b[1;33m)\u001b[0m\u001b[1;33m\u001b[0m\u001b[0m\n\u001b[0m\u001b[0;32m      3\u001b[0m \u001b[0ms\u001b[0m \u001b[1;33m=\u001b[0m \u001b[0mmath\u001b[0m\u001b[1;33m.\u001b[0m\u001b[0msin\u001b[0m\u001b[1;33m(\u001b[0m\u001b[0mangle\u001b[0m\u001b[1;33m)\u001b[0m\u001b[1;33m\u001b[0m\u001b[0m\n\u001b[0;32m      4\u001b[0m \u001b[0mpi\u001b[0m \u001b[1;33m=\u001b[0m \u001b[0mmath\u001b[0m\u001b[1;33m.\u001b[0m\u001b[0mpi\u001b[0m\u001b[1;33m\u001b[0m\u001b[0m\n\u001b[0;32m      5\u001b[0m \u001b[0mprint\u001b[0m\u001b[1;33m(\u001b[0m\u001b[0mangle\u001b[0m\u001b[1;33m,\u001b[0m \u001b[0ms\u001b[0m\u001b[1;33m,\u001b[0m \u001b[0mpi\u001b[0m\u001b[1;33m)\u001b[0m\u001b[1;33m\u001b[0m\u001b[0m\n",
      "\u001b[1;31mAttributeError\u001b[0m: 'int' object has no attribute 'radians'"
     ]
    }
   ],
   "source": [
    "angle = math.radians(234)\n",
    "s = math.sin(angle)\n",
    "pi = math.pi\n",
    "print(angle, s, pi)"
   ]
  },
  {
   "cell_type": "markdown",
   "metadata": {},
   "source": [
    "Alternatively, we can simplify the notation by giving a nickname to the module. "
   ]
  },
  {
   "cell_type": "code",
   "execution_count": 36,
   "metadata": {
    "collapsed": true
   },
   "outputs": [],
   "source": [
    "import math as m "
   ]
  },
  {
   "cell_type": "code",
   "execution_count": 39,
   "metadata": {},
   "outputs": [
    {
     "ename": "AttributeError",
     "evalue": "'int' object has no attribute 'radians'",
     "output_type": "error",
     "traceback": [
      "\u001b[1;31m---------------------------------------------------------------------------\u001b[0m",
      "\u001b[1;31mAttributeError\u001b[0m                            Traceback (most recent call last)",
      "\u001b[1;32m<ipython-input-39-cfd29f386af4>\u001b[0m in \u001b[0;36m<module>\u001b[1;34m()\u001b[0m\n\u001b[1;32m----> 1\u001b[1;33m \u001b[0mangle\u001b[0m \u001b[1;33m=\u001b[0m \u001b[0mm\u001b[0m\u001b[1;33m.\u001b[0m\u001b[0mradians\u001b[0m\u001b[1;33m(\u001b[0m\u001b[1;36m234\u001b[0m\u001b[1;33m)\u001b[0m\u001b[1;33m\u001b[0m\u001b[0m\n\u001b[0m\u001b[0;32m      2\u001b[0m \u001b[0ms\u001b[0m \u001b[1;33m=\u001b[0m \u001b[0mm\u001b[0m\u001b[1;33m.\u001b[0m\u001b[0msin\u001b[0m\u001b[1;33m(\u001b[0m\u001b[0mangle\u001b[0m\u001b[1;33m)\u001b[0m\u001b[1;33m\u001b[0m\u001b[0m\n\u001b[0;32m      3\u001b[0m \u001b[0mpi\u001b[0m \u001b[1;33m=\u001b[0m \u001b[0mm\u001b[0m\u001b[1;33m.\u001b[0m\u001b[0mpi\u001b[0m\u001b[1;33m\u001b[0m\u001b[0m\n\u001b[0;32m      4\u001b[0m \u001b[0mprint\u001b[0m\u001b[1;33m(\u001b[0m\u001b[1;34m\"m is\"\u001b[0m\u001b[1;33m,\u001b[0m \u001b[0mm\u001b[0m\u001b[1;33m)\u001b[0m\u001b[1;33m\u001b[0m\u001b[0m\n\u001b[0;32m      5\u001b[0m \u001b[0mprint\u001b[0m\u001b[1;33m(\u001b[0m\u001b[0mangle\u001b[0m\u001b[1;33m,\u001b[0m \u001b[0ms\u001b[0m\u001b[1;33m,\u001b[0m \u001b[0mpi\u001b[0m\u001b[1;33m)\u001b[0m\u001b[1;33m\u001b[0m\u001b[0m\n",
      "\u001b[1;31mAttributeError\u001b[0m: 'int' object has no attribute 'radians'"
     ]
    }
   ],
   "source": [
    "angle = m.radians(234)\n",
    "s = m.sin(angle)\n",
    "pi = m.pi\n",
    "print(\"m is\", m)\n",
    "print(angle, s, pi)\n"
   ]
  },
  {
   "cell_type": "markdown",
   "metadata": {},
   "source": [
    "However, be careful with the nickname... it should be a unique name that you will not use in your variables and functions (otherwise you will lost the reference to the module)."
   ]
  },
  {
   "cell_type": "code",
   "execution_count": 80,
   "metadata": {},
   "outputs": [
    {
     "name": "stdout",
     "output_type": "stream",
     "text": [
      "m is 123\n"
     ]
    },
    {
     "ename": "AttributeError",
     "evalue": "'int' object has no attribute 'cos'",
     "output_type": "error",
     "traceback": [
      "\u001b[1;31m---------------------------------------------------------------------------\u001b[0m",
      "\u001b[1;31mAttributeError\u001b[0m                            Traceback (most recent call last)",
      "\u001b[1;32m<ipython-input-80-08554c110018>\u001b[0m in \u001b[0;36m<module>\u001b[1;34m()\u001b[0m\n\u001b[0;32m      1\u001b[0m \u001b[0mm\u001b[0m \u001b[1;33m=\u001b[0m \u001b[1;36m123\u001b[0m\u001b[1;33m\u001b[0m\u001b[0m\n\u001b[0;32m      2\u001b[0m \u001b[0mprint\u001b[0m\u001b[1;33m(\u001b[0m\u001b[1;34m\"m is\"\u001b[0m\u001b[1;33m,\u001b[0m \u001b[0mm\u001b[0m\u001b[1;33m)\u001b[0m\u001b[1;33m\u001b[0m\u001b[0m\n\u001b[1;32m----> 3\u001b[1;33m \u001b[0mc\u001b[0m \u001b[1;33m=\u001b[0m \u001b[0mm\u001b[0m\u001b[1;33m.\u001b[0m\u001b[0mcos\u001b[0m\u001b[1;33m(\u001b[0m\u001b[0mangle\u001b[0m\u001b[1;33m)\u001b[0m\u001b[1;33m\u001b[0m\u001b[0m\n\u001b[0m",
      "\u001b[1;31mAttributeError\u001b[0m: 'int' object has no attribute 'cos'"
     ]
    }
   ],
   "source": [
    "m = 123\n",
    "print(\"m is\", m)\n",
    "c = m.cos(angle)"
   ]
  },
  {
   "cell_type": "markdown",
   "metadata": {},
   "source": [
    "Finally, we can completely avoid the dot notation by importing some functions or everything from the module. This is a good option, but you might lose track of the origin of the functions and constants."
   ]
  },
  {
   "cell_type": "code",
   "execution_count": 13,
   "metadata": {},
   "outputs": [
    {
     "name": "stdout",
     "output_type": "stream",
     "text": [
      "3.141592653589793\n"
     ]
    }
   ],
   "source": [
    "from math import pi\n",
    "print(math.pi)"
   ]
  },
  {
   "cell_type": "code",
   "execution_count": 14,
   "metadata": {
    "scrolled": true
   },
   "outputs": [
    {
     "name": "stdout",
     "output_type": "stream",
     "text": [
      "3.141592653589793\n",
      "0.8414709848078965\n",
      "0.5403023058681398\n"
     ]
    }
   ],
   "source": [
    "from math import *\n",
    "print(pi)\n",
    "print(sin(1))\n",
    "print(cos(1))"
   ]
  },
  {
   "cell_type": "markdown",
   "metadata": {},
   "source": [
    "Ok. Now you know how to use a module. If you want to learn more about the math module, check the official [documentation](https://docs.python.org/3/library/math.html)"
   ]
  },
  {
   "cell_type": "markdown",
   "metadata": {},
   "source": [
    "## 4 Are number represented as binaries in my computer?\n",
    "\n",
    "For those who are not familiar with a number expressions in bases different than $10$, I bring great news, the numbers in Python are represented as [binaries](https://en.wikipedia.org/wiki/Binary_number). Furthermore, you can play with the binary representation and do applications that would be really hard using the decimal representation. \n",
    "\n",
    "Ok. Basically, this is how it works. Let's take a number n = 6. We want to represent n using units of information that only have two states: $0$ or $1$. Imagine we have a row of $16$ bits and we can flip then to represent any integer. \n",
    "\n",
    "Here is our initial row:\n",
    "\n",
    "$n = 0000 0000 0000 0000$\n",
    "\n",
    "We will consider that our system starts on the right, so our first bit on the right is the index $0$. When we flip an element at the index $i$ we will add the value of $2^{i}$ to our final number.\n",
    "\n",
    "$n = 0000 0000 0000 0001$\n",
    "\n",
    "$n = 2^{0} = 1$. \n",
    "\n",
    "Ok, let's flip another one.\n",
    "\n",
    "$n = 0000 0000 0000 0011$\n",
    "\n",
    "$n = 2^{1} + 2^{0} = 3 $. \n",
    "\n",
    "Let's flip another one.\n",
    "\n",
    "$n = 0000 0000 0000 0111$\n",
    "\n",
    "$n = 2^{2} + 2^{1} + 2^{0} = 7 $. \n",
    "\n",
    "We went too far. Now is time to flip a number back .... we need to subtract 1, so we will flip the index 0.\n",
    "\n",
    "$n = 0000 0000 0000 0110$\n",
    "\n",
    "$n = 2^{2} + 2^{1} = 6 $. \n",
    "\n",
    "There is only few more details you need to know to use binary notation in python. You have to add the prefix $0b$ to the row of bits and you do not need to represent the zeros to left of your flips\n"
   ]
  },
  {
   "cell_type": "code",
   "execution_count": 45,
   "metadata": {
    "scrolled": true
   },
   "outputs": [
    {
     "name": "stdout",
     "output_type": "stream",
     "text": [
      "6\n"
     ]
    }
   ],
   "source": [
    "n = 0b0110\n",
    "print(n)"
   ]
  },
  {
   "cell_type": "markdown",
   "metadata": {},
   "source": [
    "Can you write the binaries for the following numbers?"
   ]
  },
  {
   "cell_type": "code",
   "execution_count": 15,
   "metadata": {},
   "outputs": [
    {
     "name": "stdout",
     "output_type": "stream",
     "text": [
      "13 0 0\n"
     ]
    }
   ],
   "source": [
    "thirteen = 0b1101\n",
    "twenty_one = 0b0\n",
    "fifty_four = 0b00\n",
    "\n",
    "print(thirteen, twenty_one, fifty_four)"
   ]
  },
  {
   "cell_type": "markdown",
   "metadata": {},
   "source": [
    "I did not tell you before, but you can actually use a function to recover the binary. The function __bin(n)__ returns the binary representation of __n__ as a string. "
   ]
  },
  {
   "cell_type": "code",
   "execution_count": 17,
   "metadata": {},
   "outputs": [
    {
     "name": "stdout",
     "output_type": "stream",
     "text": [
      "13\n",
      "0b1101\n"
     ]
    }
   ],
   "source": [
    "print(thirteen)\n",
    "print(bin(thirteen))"
   ]
  },
  {
   "cell_type": "markdown",
   "metadata": {},
   "source": [
    "## 5 Binary operations\n",
    "\n",
    "Congratulations! That was cool. Now we can add some extra sauce with the binary operations. \n",
    "\n",
    "The great thing about binaries is that we can see them spatially as a row of bits. Therefore, we can do operations both to flip the certain bits, but also to move them to one side or another.\n",
    "\n",
    "First, let's see the operations that flip the bits. They are mostly based on logical operators, such as AND, OR, XOR, inversion , etc. If you are not familiar, take a look at these cool diagrams showing logical operators on sets and on bits.\n",
    "\n",
    "This is the logic.\n",
    "\n",
    "<img src=\"binaries3.png\" alt=\"Drawing\"/>\n",
    "\n",
    "\n",
    ".\n",
    ".\n",
    "\n",
    "__A & B__\n",
    "Does a \"bitwise and\". Each bit of the output is 1 if the corresponding bit of A AND of B is 1, otherwise it's 0.\n",
    "\n",
    "__A ^ B__\n",
    "Does a \"bitwise exclusive or\". Each bit of the output is the same as the corresponding bit in A if that bit in B is 0, and it's the complement of the bit in A if that bit in B is 1. \n",
    "\n",
    "__A | B__\n",
    "Does a \"bitwise or\". Each bit of the output is 0 if the corresponding bit of A AND of B is 0, otherwise it's 1.\n",
    "\n",
    "Extra: \n",
    "\n",
    "__~ A__\n",
    "Returns the complement of A - the number you get by switching each 1 for a 0 and each 0 for a 1 (except for the leftmost digit). For the resulting integer, this is the same as -A - 1.\n",
    "\n"
   ]
  },
  {
   "cell_type": "code",
   "execution_count": 72,
   "metadata": {},
   "outputs": [
    {
     "name": "stdout",
     "output_type": "stream",
     "text": [
      "0b1000\n",
      "0b10011011\n",
      "0b10010011\n",
      "8\n",
      "155\n",
      "147\n"
     ]
    }
   ],
   "source": [
    "A = 0b00001010\n",
    "B = 0b10011001\n",
    "\n",
    "and_result = A & B\n",
    "or_result = A | B\n",
    "xor_result = A ^ B\n",
    "\n",
    "print(bin(and_result))\n",
    "print(bin(or_result))\n",
    "print(bin(xor_result))\n",
    "\n",
    "print(and_result)\n",
    "print(or_result)\n",
    "print(xor_result)"
   ]
  },
  {
   "cell_type": "markdown",
   "metadata": {},
   "source": [
    "Finally, we can talk about moving the flips to one side or another. \n",
    "\n",
    "<img src=\"binaries4.png\" alt=\"Drawing\", width =800/>\n",
    "\n",
    "A << i\n",
    "Returns x with the bits shifted to the left by y places (and new bits on the right-hand-side are zeros). This is the same as multiplying A by 2**i.\n",
    "\n",
    "A >> i\n",
    "Returns x with the bits shifted to the right by y places. This is the same as dividing A by 2**i.\n"
   ]
  },
  {
   "cell_type": "code",
   "execution_count": 79,
   "metadata": {},
   "outputs": [
    {
     "name": "stdout",
     "output_type": "stream",
     "text": [
      "0b1010\n",
      "0b10100\n",
      "0b101000\n",
      "0b101\n",
      "0b10\n",
      "0b1010\n",
      "0b1000\n",
      "10\n",
      "20\n",
      "40\n",
      "5\n",
      "2\n",
      "10\n",
      "8\n"
     ]
    }
   ],
   "source": [
    "A = 0b00001010\n",
    "left_1 = A<<1\n",
    "left_2 = A<<2\n",
    "right_1 = A>>1\n",
    "right_2 = A>>2\n",
    "left_right_1 = (A>>1)<<1\n",
    "left_right_2 = A>>2<<2\n",
    "\n",
    "\n",
    "print(bin(A))\n",
    "print(bin(left_1))\n",
    "print(bin(left_2))\n",
    "print(bin(right_1))\n",
    "print(bin(right_2))\n",
    "print(bin(left_right_1))\n",
    "print(bin(left_right_2))\n",
    "\n",
    "print(A)\n",
    "print(left_1)\n",
    "print(left_2)\n",
    "print(right_1)\n",
    "print(right_2)\n",
    "print(left_right_1)\n",
    "print(left_right_2)\n"
   ]
  },
  {
   "cell_type": "markdown",
   "metadata": {},
   "source": [
    "## Why would I ever use binaries?\n",
    "\n",
    "Well, I will be honest... it will be rare. However, there are situations where understanding the logic of binaries or using it can be benefical. Two examples:\n",
    "\n",
    "#### 1) \n",
    "You can use bits to mask elements. Each index of the mask can represent the index of a category or group of objects. In a physics simulation you can use a mask to decide which element in your simulation is going to collide with which. The advantage is that you can easily store a mask composed of multiple elements, so you can have a mask that represents all the elements \n",
    "\n",
    "Let's say you have 16 elements. Your mask repreenting all the elements is \n",
    "\n",
    "$1111111111111111$ \n",
    "\n",
    "Now you can say that you want to define a mask that represents the collision with all the elements minus the elements in the the index 3 and 6. You can just do a XOR operation\n",
    "\n",
    "$1111111111111111$ ^ $0000000001001000 = 1111111110110111$ \n",
    "\n",
    "This is much more efficient than storing the index as a list and then remove some of these integers.\n",
    "\n",
    "#### 2)\n",
    "DNA operations. See your challenge of the week."
   ]
  }
 ],
 "metadata": {
  "kernelspec": {
   "display_name": "Python 3",
   "language": "python",
   "name": "python3"
  },
  "language_info": {
   "codemirror_mode": {
    "name": "ipython",
    "version": 3
   },
   "file_extension": ".py",
   "mimetype": "text/x-python",
   "name": "python",
   "nbconvert_exporter": "python",
   "pygments_lexer": "ipython3",
   "version": "3.6.6"
  }
 },
 "nbformat": 4,
 "nbformat_minor": 2
}

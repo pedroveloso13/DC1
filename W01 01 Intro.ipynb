{
 "cells": [
  {
   "cell_type": "markdown",
   "metadata": {},
   "source": [
    "#### 48782 Design and Computation 1\n",
    "\n",
    "# Review of week 01 01\n",
    "\n",
    "We will use this file to review all the commands we learned in W01 01."
   ]
  },
  {
   "cell_type": "markdown",
   "metadata": {},
   "source": [
    "#### 1 Printing\n",
    "\n",
    "Conventionally the first program people teach in a language is to print the expression \"hello world\".\n",
    "This requires two things:\n",
    "\n",
    "- A function to print.\n",
    "- A string \"hello world\" to be printed.\n",
    "\n",
    "We will talk much more about strings next week. For now, just assume that you can write text data in python using the quotation marks. \n",
    "\n",
    "Let's do it. Run the cell below."
   ]
  },
  {
   "cell_type": "code",
   "execution_count": 22,
   "metadata": {},
   "outputs": [
    {
     "name": "stdout",
     "output_type": "stream",
     "text": [
      "hello world!\n"
     ]
    }
   ],
   "source": [
    "print(\"hello world!\")"
   ]
  },
  {
   "cell_type": "markdown",
   "metadata": {},
   "source": [
    "Now try to print a dialogue... something like:\n",
    "\n",
    "> Hi, what is your name?\n",
    "\n",
    "> I am Pedro. What about you?\n",
    "\n",
    "> I am [add your name].\n",
    "\n",
    "Use three print function (one per line). \n",
    "Every time you execute subsequent print function, it will make sure that the next text will start in the next line.    "
   ]
  },
  {
   "cell_type": "code",
   "execution_count": 23,
   "metadata": {
    "scrolled": true
   },
   "outputs": [
    {
     "name": "stdout",
     "output_type": "stream",
     "text": [
      "\n",
      "\n",
      "\n"
     ]
    }
   ],
   "source": [
    "print()\n",
    "print()\n",
    "print()"
   ]
  },
  {
   "cell_type": "markdown",
   "metadata": {},
   "source": [
    "#### 2 Comments\n",
    "\n",
    "A little break before we keep playing with prints. Everytime I add the # in a line of our code, I am marking that line as a comment. As a consequence, the program will not execute that line and I can write useful information or just prevent the execution of some line.  "
   ]
  },
  {
   "cell_type": "code",
   "execution_count": 24,
   "metadata": {
    "scrolled": true
   },
   "outputs": [
    {
     "name": "stdout",
     "output_type": "stream",
     "text": [
      "this is not a comment\n"
     ]
    }
   ],
   "source": [
    "# this is a comment\n",
    "# print(this is also a comment)\n",
    "print(\"this is not a comment\")"
   ]
  },
  {
   "cell_type": "markdown",
   "metadata": {},
   "source": [
    "#### 3 Adding more to our prints\n",
    "\n",
    "Next week, we will see many ways to combine and edit strings in Python. For now, I will introduce just a few tricks:\n",
    "\n",
    "- Use comma after the text in the print, to prevent adding a new line\n",
    "- Add the literal \"\\n\" in your text, it will add new lines in place.\n",
    "- Add multiple texts separated by commas in the parenthesis.\n",
    "\n",
    "To use your new tricks, try the following\n",
    "\n",
    "1. use two print functions to print. The first should print \"hello \" and the second \"world\" (both in the same line)  \n",
    "> hello world\n",
    "2. Print hello world separated by 3 lines, using only one print function.\n",
    "> hello\n",
    ">\n",
    ">\n",
    ">\n",
    "> world"
   ]
  },
  {
   "cell_type": "code",
   "execution_count": null,
   "metadata": {
    "collapsed": true
   },
   "outputs": [],
   "source": []
  },
  {
   "cell_type": "code",
   "execution_count": null,
   "metadata": {
    "collapsed": true
   },
   "outputs": [],
   "source": []
  },
  {
   "cell_type": "markdown",
   "metadata": {},
   "source": [
    "#### 4 Assigning data to a variable\n",
    "\n",
    "We do not want to write the data explicitely in our code all the time. Besides, in the near future we will also do some operations with the data. For now, let us assign texts and numbers to our variables. To assign a value to a variable, type the variable name, add the equal symbol, then the value on the right. Notice that the value on the right can be a pre-existing variable."
   ]
  },
  {
   "cell_type": "code",
   "execution_count": 25,
   "metadata": {
    "collapsed": true
   },
   "outputs": [],
   "source": [
    "# just to remind you, this is a comment\n",
    "name = \"Pedro\"\n",
    "age = 12\n",
    "new_age = age"
   ]
  },
  {
   "cell_type": "markdown",
   "metadata": {},
   "source": [
    "Notice that now we have the data stored in our computer and we can access with the variables' names. "
   ]
  },
  {
   "cell_type": "code",
   "execution_count": 26,
   "metadata": {},
   "outputs": [
    {
     "name": "stdout",
     "output_type": "stream",
     "text": [
      "Pedro\n",
      "12\n",
      "Pedro has 12 years\n"
     ]
    }
   ],
   "source": [
    "print(name)\n",
    "print(age)\n",
    "print(name, \"has\", new_age, \"years\") # we are using the trick 3 presented in the topic 3. "
   ]
  },
  {
   "cell_type": "markdown",
   "metadata": {},
   "source": [
    "Before you start playing with your own print functions and variables, let us stablish some basic rules in terms of assignment.\n",
    "\n",
    "never start the name of a variable with a number\n",
    "never use empty spaces in the name\n",
    "be consistent with the indentation (we will talk about his later).\n",
    "make sure that the right size of \n",
    "\n",
    "Let us say that I want to name a variable as I love python. This would break some rules I presented above. A good practice in python for composed names is to use the camelCase or snake_case.\n",
    "\n",
    "Snake case: \n",
    "> i_love_python = 1 \n",
    "\n",
    "Camel case:\n",
    "> iLovePython = 1\n",
    "\n",
    "Off course we do not want to create long name for the variables, but we do want to have ameaningful name (what might require few words). Create a variable with the name carnegie mellon id in one of the cases and assign a number to it. To make sure it is working, print it in the next line."
   ]
  },
  {
   "cell_type": "code",
   "execution_count": null,
   "metadata": {
    "collapsed": true
   },
   "outputs": [],
   "source": []
  },
  {
   "cell_type": "markdown",
   "metadata": {},
   "source": [
    "#### 5 Input\n",
    "\n",
    "Another interesting trick is to write a code that requires information from the user. For example, if I want to create a database, I can ask the users to write their names, ids and data of birth and store each in a separate variable. Let us try it with the function input. The "
   ]
  },
  {
   "cell_type": "code",
   "execution_count": 27,
   "metadata": {},
   "outputs": [
    {
     "name": "stdout",
     "output_type": "stream",
     "text": [
      "Enter our name:\n"
     ]
    }
   ],
   "source": [
    "name = input(\"Enter our name:\")"
   ]
  },
  {
   "cell_type": "markdown",
   "metadata": {},
   "source": [
    "#### 6 documentation\n",
    "\n",
    "How are you supposed to remember all these functions? First of all, practice. Secondly, always resort to the official documentation\n",
    "\n",
    "https://docs.python.org/3\n",
    "https://docs.python.org/3/library/functions.html (check print and input here)"
   ]
  },
  {
   "cell_type": "code",
   "execution_count": null,
   "metadata": {
    "collapsed": true
   },
   "outputs": [],
   "source": []
  }
 ],
 "metadata": {
  "kernelspec": {
   "display_name": "Python 3",
   "language": "python",
   "name": "python3"
  },
  "language_info": {
   "codemirror_mode": {
    "name": "ipython",
    "version": 3
   },
   "file_extension": ".py",
   "mimetype": "text/x-python",
   "name": "python",
   "nbconvert_exporter": "python",
   "pygments_lexer": "ipython3",
   "version": "3.6.6"
  }
 },
 "nbformat": 4,
 "nbformat_minor": 2
}
